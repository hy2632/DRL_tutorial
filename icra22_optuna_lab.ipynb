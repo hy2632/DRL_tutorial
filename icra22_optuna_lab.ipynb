{
  "cells": [
    {
      "cell_type": "markdown",
      "metadata": {},
      "source": [
        "https://www.youtube.com/watch?v=ihP7E76KGOI"
      ]
    },
    {
      "cell_type": "markdown",
      "metadata": {
        "id": "hyyN-2qyK_T2"
      },
      "source": [
        "# Hyperparameter tuning with Optuna\n",
        "\n",
        "Github repo: https://github.com/araffin/tools-for-robotic-rl-icra2022\n",
        "\n",
        "Optuna: https://github.com/optuna/optuna\n",
        "\n",
        "Stable-Baselines3: https://github.com/DLR-RM/stable-baselines3\n",
        "\n",
        "Documentation: https://stable-baselines3.readthedocs.io/en/master/\n",
        "\n",
        "SB3 Contrib: https://github.com/Stable-Baselines-Team/stable-baselines3-contrib\n",
        "\n",
        "RL Baselines3 zoo: https://github.com/DLR-RM/rl-baselines3-zoo\n",
        "\n",
        "[RL Baselines3 Zoo](https://github.com/DLR-RM/rl-baselines3-zoo) is a collection of pre-trained Reinforcement Learning agents using Stable-Baselines3.\n",
        "\n",
        "It also provides basic scripts for training, evaluating agents, tuning hyperparameters and recording videos.\n",
        "\n",
        "\n",
        "## Introduction\n",
        "\n",
        "In this notebook, you will learn the importance of tuning hyperparameters. You will first try to optimize the parameters manually and then we will see how to automate the search using Optuna.\n",
        "\n",
        "\n",
        "## Install Dependencies and Stable Baselines3 Using Pip\n",
        "\n",
        "List of full dependencies can be found in the [README](https://github.com/DLR-RM/stable-baselines3).\n",
        "\n",
        "\n",
        "```\n",
        "pip install stable-baselines3[extra]\n",
        "```"
      ]
    },
    {
      "cell_type": "code",
      "execution_count": 1,
      "metadata": {
        "id": "hYdv2ygjLaFL"
      },
      "outputs": [
        {
          "name": "stdout",
          "output_type": "stream",
          "text": [
            "Requirement already satisfied: stable-baselines3 in c:\\users\\hfy\\anaconda3\\envs\\drl\\lib\\site-packages (2.0.0)\n",
            "Requirement already satisfied: gymnasium==0.28.1 in c:\\users\\hfy\\anaconda3\\envs\\drl\\lib\\site-packages (from stable-baselines3) (0.28.1)\n",
            "Requirement already satisfied: numpy>=1.20 in c:\\users\\hfy\\anaconda3\\envs\\drl\\lib\\site-packages (from stable-baselines3) (1.24.3)\n",
            "Requirement already satisfied: torch>=1.11 in c:\\users\\hfy\\anaconda3\\envs\\drl\\lib\\site-packages (from stable-baselines3) (2.1.0.dev20230609)\n",
            "Requirement already satisfied: cloudpickle in c:\\users\\hfy\\anaconda3\\envs\\drl\\lib\\site-packages (from stable-baselines3) (2.2.1)\n",
            "Requirement already satisfied: pandas in c:\\users\\hfy\\anaconda3\\envs\\drl\\lib\\site-packages (from stable-baselines3) (2.0.2)\n",
            "Requirement already satisfied: matplotlib in c:\\users\\hfy\\anaconda3\\envs\\drl\\lib\\site-packages (from stable-baselines3) (3.7.1)\n",
            "Requirement already satisfied: jax-jumpy>=1.0.0 in c:\\users\\hfy\\anaconda3\\envs\\drl\\lib\\site-packages (from gymnasium==0.28.1->stable-baselines3) (1.0.0)\n",
            "Requirement already satisfied: typing-extensions>=4.3.0 in c:\\users\\hfy\\anaconda3\\envs\\drl\\lib\\site-packages (from gymnasium==0.28.1->stable-baselines3) (4.5.0)\n",
            "Requirement already satisfied: farama-notifications>=0.0.1 in c:\\users\\hfy\\anaconda3\\envs\\drl\\lib\\site-packages (from gymnasium==0.28.1->stable-baselines3) (0.0.4)\n",
            "Requirement already satisfied: filelock in c:\\users\\hfy\\anaconda3\\envs\\drl\\lib\\site-packages (from torch>=1.11->stable-baselines3) (3.9.0)\n",
            "Requirement already satisfied: sympy in c:\\users\\hfy\\anaconda3\\envs\\drl\\lib\\site-packages (from torch>=1.11->stable-baselines3) (1.11.1)\n",
            "Requirement already satisfied: networkx in c:\\users\\hfy\\anaconda3\\envs\\drl\\lib\\site-packages (from torch>=1.11->stable-baselines3) (2.8.4)\n",
            "Requirement already satisfied: jinja2 in c:\\users\\hfy\\anaconda3\\envs\\drl\\lib\\site-packages (from torch>=1.11->stable-baselines3) (3.1.2)\n",
            "Requirement already satisfied: fsspec in c:\\users\\hfy\\anaconda3\\envs\\drl\\lib\\site-packages (from torch>=1.11->stable-baselines3) (2023.6.0)\n",
            "Requirement already satisfied: contourpy>=1.0.1 in c:\\users\\hfy\\anaconda3\\envs\\drl\\lib\\site-packages (from matplotlib->stable-baselines3) (1.0.7)\n",
            "Requirement already satisfied: cycler>=0.10 in c:\\users\\hfy\\anaconda3\\envs\\drl\\lib\\site-packages (from matplotlib->stable-baselines3) (0.11.0)\n",
            "Requirement already satisfied: fonttools>=4.22.0 in c:\\users\\hfy\\anaconda3\\envs\\drl\\lib\\site-packages (from matplotlib->stable-baselines3) (4.39.4)\n",
            "Requirement already satisfied: kiwisolver>=1.0.1 in c:\\users\\hfy\\anaconda3\\envs\\drl\\lib\\site-packages (from matplotlib->stable-baselines3) (1.4.4)\n",
            "Requirement already satisfied: packaging>=20.0 in c:\\users\\hfy\\anaconda3\\envs\\drl\\lib\\site-packages (from matplotlib->stable-baselines3) (23.1)\n",
            "Requirement already satisfied: pillow>=6.2.0 in c:\\users\\hfy\\anaconda3\\envs\\drl\\lib\\site-packages (from matplotlib->stable-baselines3) (9.4.0)\n",
            "Requirement already satisfied: pyparsing>=2.3.1 in c:\\users\\hfy\\anaconda3\\envs\\drl\\lib\\site-packages (from matplotlib->stable-baselines3) (3.0.9)\n",
            "Requirement already satisfied: python-dateutil>=2.7 in c:\\users\\hfy\\anaconda3\\envs\\drl\\lib\\site-packages (from matplotlib->stable-baselines3) (2.8.2)\n",
            "Requirement already satisfied: pytz>=2020.1 in c:\\users\\hfy\\anaconda3\\envs\\drl\\lib\\site-packages (from pandas->stable-baselines3) (2023.3)\n",
            "Requirement already satisfied: tzdata>=2022.1 in c:\\users\\hfy\\anaconda3\\envs\\drl\\lib\\site-packages (from pandas->stable-baselines3) (2023.3)\n",
            "Requirement already satisfied: six>=1.5 in c:\\users\\hfy\\anaconda3\\envs\\drl\\lib\\site-packages (from python-dateutil>=2.7->matplotlib->stable-baselines3) (1.16.0)\n",
            "Requirement already satisfied: MarkupSafe>=2.0 in c:\\users\\hfy\\anaconda3\\envs\\drl\\lib\\site-packages (from jinja2->torch>=1.11->stable-baselines3) (2.1.1)\n",
            "Requirement already satisfied: mpmath>=0.19 in c:\\users\\hfy\\anaconda3\\envs\\drl\\lib\\site-packages (from sympy->torch>=1.11->stable-baselines3) (1.2.1)\n"
          ]
        }
      ],
      "source": [
        "!pip install stable-baselines3"
      ]
    },
    {
      "cell_type": "code",
      "execution_count": 2,
      "metadata": {
        "id": "oexj67yWN5_k"
      },
      "outputs": [
        {
          "name": "stdout",
          "output_type": "stream",
          "text": [
            "Requirement already satisfied: sb3-contrib in c:\\users\\hfy\\anaconda3\\envs\\drl\\lib\\site-packages (2.0.0)\n",
            "Requirement already satisfied: stable-baselines3>=2.0.0 in c:\\users\\hfy\\anaconda3\\envs\\drl\\lib\\site-packages (from sb3-contrib) (2.0.0)\n",
            "Requirement already satisfied: gymnasium==0.28.1 in c:\\users\\hfy\\anaconda3\\envs\\drl\\lib\\site-packages (from stable-baselines3>=2.0.0->sb3-contrib) (0.28.1)\n",
            "Requirement already satisfied: numpy>=1.20 in c:\\users\\hfy\\anaconda3\\envs\\drl\\lib\\site-packages (from stable-baselines3>=2.0.0->sb3-contrib) (1.24.3)\n",
            "Requirement already satisfied: torch>=1.11 in c:\\users\\hfy\\anaconda3\\envs\\drl\\lib\\site-packages (from stable-baselines3>=2.0.0->sb3-contrib) (2.1.0.dev20230609)\n",
            "Requirement already satisfied: cloudpickle in c:\\users\\hfy\\anaconda3\\envs\\drl\\lib\\site-packages (from stable-baselines3>=2.0.0->sb3-contrib) (2.2.1)\n",
            "Requirement already satisfied: pandas in c:\\users\\hfy\\anaconda3\\envs\\drl\\lib\\site-packages (from stable-baselines3>=2.0.0->sb3-contrib) (2.0.2)\n",
            "Requirement already satisfied: matplotlib in c:\\users\\hfy\\anaconda3\\envs\\drl\\lib\\site-packages (from stable-baselines3>=2.0.0->sb3-contrib) (3.7.1)\n",
            "Requirement already satisfied: jax-jumpy>=1.0.0 in c:\\users\\hfy\\anaconda3\\envs\\drl\\lib\\site-packages (from gymnasium==0.28.1->stable-baselines3>=2.0.0->sb3-contrib) (1.0.0)\n",
            "Requirement already satisfied: typing-extensions>=4.3.0 in c:\\users\\hfy\\anaconda3\\envs\\drl\\lib\\site-packages (from gymnasium==0.28.1->stable-baselines3>=2.0.0->sb3-contrib) (4.5.0)\n",
            "Requirement already satisfied: farama-notifications>=0.0.1 in c:\\users\\hfy\\anaconda3\\envs\\drl\\lib\\site-packages (from gymnasium==0.28.1->stable-baselines3>=2.0.0->sb3-contrib) (0.0.4)\n",
            "Requirement already satisfied: filelock in c:\\users\\hfy\\anaconda3\\envs\\drl\\lib\\site-packages (from torch>=1.11->stable-baselines3>=2.0.0->sb3-contrib) (3.9.0)\n",
            "Requirement already satisfied: sympy in c:\\users\\hfy\\anaconda3\\envs\\drl\\lib\\site-packages (from torch>=1.11->stable-baselines3>=2.0.0->sb3-contrib) (1.11.1)\n",
            "Requirement already satisfied: networkx in c:\\users\\hfy\\anaconda3\\envs\\drl\\lib\\site-packages (from torch>=1.11->stable-baselines3>=2.0.0->sb3-contrib) (2.8.4)\n",
            "Requirement already satisfied: jinja2 in c:\\users\\hfy\\anaconda3\\envs\\drl\\lib\\site-packages (from torch>=1.11->stable-baselines3>=2.0.0->sb3-contrib) (3.1.2)\n",
            "Requirement already satisfied: fsspec in c:\\users\\hfy\\anaconda3\\envs\\drl\\lib\\site-packages (from torch>=1.11->stable-baselines3>=2.0.0->sb3-contrib) (2023.6.0)\n",
            "Requirement already satisfied: contourpy>=1.0.1 in c:\\users\\hfy\\anaconda3\\envs\\drl\\lib\\site-packages (from matplotlib->stable-baselines3>=2.0.0->sb3-contrib) (1.0.7)\n",
            "Requirement already satisfied: cycler>=0.10 in c:\\users\\hfy\\anaconda3\\envs\\drl\\lib\\site-packages (from matplotlib->stable-baselines3>=2.0.0->sb3-contrib) (0.11.0)\n",
            "Requirement already satisfied: fonttools>=4.22.0 in c:\\users\\hfy\\anaconda3\\envs\\drl\\lib\\site-packages (from matplotlib->stable-baselines3>=2.0.0->sb3-contrib) (4.39.4)\n",
            "Requirement already satisfied: kiwisolver>=1.0.1 in c:\\users\\hfy\\anaconda3\\envs\\drl\\lib\\site-packages (from matplotlib->stable-baselines3>=2.0.0->sb3-contrib) (1.4.4)\n",
            "Requirement already satisfied: packaging>=20.0 in c:\\users\\hfy\\anaconda3\\envs\\drl\\lib\\site-packages (from matplotlib->stable-baselines3>=2.0.0->sb3-contrib) (23.1)\n",
            "Requirement already satisfied: pillow>=6.2.0 in c:\\users\\hfy\\anaconda3\\envs\\drl\\lib\\site-packages (from matplotlib->stable-baselines3>=2.0.0->sb3-contrib) (9.4.0)\n",
            "Requirement already satisfied: pyparsing>=2.3.1 in c:\\users\\hfy\\anaconda3\\envs\\drl\\lib\\site-packages (from matplotlib->stable-baselines3>=2.0.0->sb3-contrib) (3.0.9)\n",
            "Requirement already satisfied: python-dateutil>=2.7 in c:\\users\\hfy\\anaconda3\\envs\\drl\\lib\\site-packages (from matplotlib->stable-baselines3>=2.0.0->sb3-contrib) (2.8.2)\n",
            "Requirement already satisfied: pytz>=2020.1 in c:\\users\\hfy\\anaconda3\\envs\\drl\\lib\\site-packages (from pandas->stable-baselines3>=2.0.0->sb3-contrib) (2023.3)\n",
            "Requirement already satisfied: tzdata>=2022.1 in c:\\users\\hfy\\anaconda3\\envs\\drl\\lib\\site-packages (from pandas->stable-baselines3>=2.0.0->sb3-contrib) (2023.3)\n",
            "Requirement already satisfied: six>=1.5 in c:\\users\\hfy\\anaconda3\\envs\\drl\\lib\\site-packages (from python-dateutil>=2.7->matplotlib->stable-baselines3>=2.0.0->sb3-contrib) (1.16.0)\n",
            "Requirement already satisfied: MarkupSafe>=2.0 in c:\\users\\hfy\\anaconda3\\envs\\drl\\lib\\site-packages (from jinja2->torch>=1.11->stable-baselines3>=2.0.0->sb3-contrib) (2.1.1)\n",
            "Requirement already satisfied: mpmath>=0.19 in c:\\users\\hfy\\anaconda3\\envs\\drl\\lib\\site-packages (from sympy->torch>=1.11->stable-baselines3>=2.0.0->sb3-contrib) (1.2.1)\n"
          ]
        }
      ],
      "source": [
        "# Optional: install SB3 contrib to have access to additional algorithms\n",
        "!pip install sb3-contrib"
      ]
    },
    {
      "cell_type": "code",
      "execution_count": 3,
      "metadata": {
        "id": "NNah91r9x9EL"
      },
      "outputs": [
        {
          "name": "stdout",
          "output_type": "stream",
          "text": [
            "Requirement already satisfied: optuna in c:\\users\\hfy\\anaconda3\\envs\\drl\\lib\\site-packages (3.3.0)\n",
            "Requirement already satisfied: alembic>=1.5.0 in c:\\users\\hfy\\anaconda3\\envs\\drl\\lib\\site-packages (from optuna) (1.11.2)\n",
            "Requirement already satisfied: cmaes>=0.10.0 in c:\\users\\hfy\\anaconda3\\envs\\drl\\lib\\site-packages (from optuna) (0.10.0)\n",
            "Requirement already satisfied: colorlog in c:\\users\\hfy\\anaconda3\\envs\\drl\\lib\\site-packages (from optuna) (6.7.0)\n",
            "Requirement already satisfied: numpy in c:\\users\\hfy\\anaconda3\\envs\\drl\\lib\\site-packages (from optuna) (1.24.3)\n",
            "Requirement already satisfied: packaging>=20.0 in c:\\users\\hfy\\anaconda3\\envs\\drl\\lib\\site-packages (from optuna) (23.1)\n",
            "Requirement already satisfied: sqlalchemy>=1.3.0 in c:\\users\\hfy\\anaconda3\\envs\\drl\\lib\\site-packages (from optuna) (2.0.19)\n",
            "Requirement already satisfied: tqdm in c:\\users\\hfy\\anaconda3\\envs\\drl\\lib\\site-packages (from optuna) (4.65.0)\n",
            "Requirement already satisfied: PyYAML in c:\\users\\hfy\\anaconda3\\envs\\drl\\lib\\site-packages (from optuna) (6.0)\n",
            "Requirement already satisfied: Mako in c:\\users\\hfy\\anaconda3\\envs\\drl\\lib\\site-packages (from alembic>=1.5.0->optuna) (1.2.4)\n",
            "Requirement already satisfied: typing-extensions>=4 in c:\\users\\hfy\\anaconda3\\envs\\drl\\lib\\site-packages (from alembic>=1.5.0->optuna) (4.5.0)\n",
            "Requirement already satisfied: greenlet!=0.4.17 in c:\\users\\hfy\\anaconda3\\envs\\drl\\lib\\site-packages (from sqlalchemy>=1.3.0->optuna) (2.0.2)\n",
            "Requirement already satisfied: colorama in c:\\users\\hfy\\anaconda3\\envs\\drl\\lib\\site-packages (from colorlog->optuna) (0.4.6)\n",
            "Requirement already satisfied: MarkupSafe>=0.9.2 in c:\\users\\hfy\\anaconda3\\envs\\drl\\lib\\site-packages (from Mako->alembic>=1.5.0->optuna) (2.1.1)\n"
          ]
        }
      ],
      "source": [
        "# Optuna will be used in the last part when doing hyperparameter tuning\n",
        "!pip install optuna"
      ]
    },
    {
      "cell_type": "markdown",
      "metadata": {
        "id": "FtY8FhliLsGm"
      },
      "source": [
        "## Imports"
      ]
    },
    {
      "cell_type": "code",
      "execution_count": 4,
      "metadata": {
        "id": "BIedd7Pz9sOs"
      },
      "outputs": [],
      "source": [
        "# import gym\n",
        "# import numpy as np\n",
        "\n",
        "import gymnasium as gym\n",
        "import numpy as np"
      ]
    },
    {
      "cell_type": "markdown",
      "metadata": {
        "id": "Ae32CtgzTG3R"
      },
      "source": [
        "The first thing you need to import is the RL model, check the documentation to know what you can use on which problem"
      ]
    },
    {
      "cell_type": "code",
      "execution_count": 5,
      "metadata": {
        "id": "R7tKaBFrTR0a"
      },
      "outputs": [],
      "source": [
        "from stable_baselines3 import PPO, A2C, SAC, TD3, DQN"
      ]
    },
    {
      "cell_type": "code",
      "execution_count": 6,
      "metadata": {
        "id": "EcsXmYRMON9W"
      },
      "outputs": [],
      "source": [
        "# Algorithms from the contrib repo\n",
        "# https://github.com/Stable-Baselines-Team/stable-baselines3-contrib\n",
        "from sb3_contrib import QRDQN, TQC"
      ]
    },
    {
      "cell_type": "code",
      "execution_count": 7,
      "metadata": {
        "id": "kLwjcfvuqtGE"
      },
      "outputs": [],
      "source": [
        "from stable_baselines3.common.env_util import make_vec_env\n",
        "from stable_baselines3.common.evaluation import evaluate_policy"
      ]
    },
    {
      "cell_type": "markdown",
      "metadata": {
        "id": "-khNkrgcI6Z1"
      },
      "source": [
        "# Part I: The Importance Of Tuned Hyperparameters\n",
        "\n"
      ]
    },
    {
      "cell_type": "markdown",
      "metadata": {
        "id": "PytOtL9GdmrE"
      },
      "source": [
        "When compared with Supervised Learning, Deep Reinforcement Learning is far more sensitive to the choice of hyper-parameters such as learning rate, number of neurons, number of layers, optimizer ... etc.\n",
        "\n",
        "Poor choice of hyper-parameters can lead to poor/unstable convergence. This challenge is compounded by the variability in performance across random seeds (used to initialize the network weights and the environment)."
      ]
    },
    {
      "cell_type": "markdown",
      "metadata": {
        "id": "Hk8HSIC3qUjc"
      },
      "source": [
        "In addition to hyperparameters, selecting the appropriate algorithm is also an important choice. We will demonstrate it on the simple Pendulum task.\n",
        "\n",
        "See [gym doc](https://gym.openai.com/envs/Pendulum-v0/): \"The inverted pendulum swingup problem is a classic problem in the control literature. In this version  of the problem, the pendulum starts in a random position, and the goal is to swing it up so it stays upright.\"\n",
        "\n",
        "\n",
        "Let's try first with PPO and a small budget of 4000 steps (20 episodes):"
      ]
    },
    {
      "cell_type": "code",
      "execution_count": 8,
      "metadata": {
        "id": "4ToIvihGq2N0"
      },
      "outputs": [],
      "source": [
        "env_id = \"Pendulum-v1\"\n",
        "# Env used only for evaluation\n",
        "eval_envs = make_vec_env(env_id, n_envs=10, seed=0)\n",
        "# 4000 training timesteps\n",
        "budget_pendulum = 4000"
      ]
    },
    {
      "cell_type": "markdown",
      "metadata": {
        "id": "EWT2r6QE4yew"
      },
      "source": [
        "### PPO"
      ]
    },
    {
      "cell_type": "code",
      "execution_count": 9,
      "metadata": {
        "id": "KCHk_-_4ndux"
      },
      "outputs": [],
      "source": [
        "ppo_model = PPO(\"MlpPolicy\", env_id, seed=0, verbose=0).learn(budget_pendulum)"
      ]
    },
    {
      "cell_type": "code",
      "execution_count": 10,
      "metadata": {
        "colab": {
          "base_uri": "https://localhost:8080/"
        },
        "id": "TP9C9AqLndxz",
        "outputId": "dd8e423c-dd4d-43cf-eac5-639e6748f02c"
      },
      "outputs": [
        {
          "name": "stdout",
          "output_type": "stream",
          "text": [
            "PPO Mean episode reward: -1171.20 +/- 271.86\n"
          ]
        }
      ],
      "source": [
        "mean_reward, std_reward = evaluate_policy(ppo_model, eval_envs, n_eval_episodes=100, deterministic=True)\n",
        "\n",
        "print(f\"PPO Mean episode reward: {mean_reward:.2f} +/- {std_reward:.2f}\")"
      ]
    },
    {
      "cell_type": "markdown",
      "metadata": {
        "id": "uHmJaJLl5ds4"
      },
      "source": [
        "### A2C"
      ]
    },
    {
      "cell_type": "code",
      "execution_count": 19,
      "metadata": {},
      "outputs": [],
      "source": [
        "# # Use tensorboard to visualize the training\n",
        "# %tensorboard --logdir ./tensorboard/"
      ]
    },
    {
      "cell_type": "code",
      "execution_count": 18,
      "metadata": {
        "id": "BLL_pws25jh0"
      },
      "outputs": [
        {
          "name": "stdout",
          "output_type": "stream",
          "text": [
            "Using cuda device\n",
            "Creating environment from the given name 'Pendulum-v1'\n",
            "Wrapping the env with a `Monitor` wrapper\n",
            "Wrapping the env in a DummyVecEnv.\n",
            "-------------------------------------\n",
            "| rollout/              |           |\n",
            "|    ep_len_mean        | 200       |\n",
            "|    ep_rew_mean        | -1.45e+03 |\n",
            "| time/                 |           |\n",
            "|    fps                | 409       |\n",
            "|    iterations         | 100       |\n",
            "|    time_elapsed       | 1         |\n",
            "|    total_timesteps    | 500       |\n",
            "| train/                |           |\n",
            "|    entropy_loss       | -1.42     |\n",
            "|    explained_variance | 0.573     |\n",
            "|    learning_rate      | 0.0007    |\n",
            "|    n_updates          | 99        |\n",
            "|    policy_loss        | -5        |\n",
            "|    std                | 1.01      |\n",
            "|    value_loss         | 14.9      |\n",
            "-------------------------------------\n",
            "-------------------------------------\n",
            "| rollout/              |           |\n",
            "|    ep_len_mean        | 200       |\n",
            "|    ep_rew_mean        | -1.21e+03 |\n",
            "| time/                 |           |\n",
            "|    fps                | 421       |\n",
            "|    iterations         | 200       |\n",
            "|    time_elapsed       | 2         |\n",
            "|    total_timesteps    | 1000      |\n",
            "| train/                |           |\n",
            "|    entropy_loss       | -1.42     |\n",
            "|    explained_variance | -0.00525  |\n",
            "|    learning_rate      | 0.0007    |\n",
            "|    n_updates          | 199       |\n",
            "|    policy_loss        | -66.5     |\n",
            "|    std                | 1.01      |\n",
            "|    value_loss         | 1.72e+03  |\n",
            "-------------------------------------\n",
            "-------------------------------------\n",
            "| rollout/              |           |\n",
            "|    ep_len_mean        | 200       |\n",
            "|    ep_rew_mean        | -1.19e+03 |\n",
            "| time/                 |           |\n",
            "|    fps                | 435       |\n",
            "|    iterations         | 300       |\n",
            "|    time_elapsed       | 3         |\n",
            "|    total_timesteps    | 1500      |\n",
            "| train/                |           |\n",
            "|    entropy_loss       | -1.43     |\n",
            "|    explained_variance | -0.0936   |\n",
            "|    learning_rate      | 0.0007    |\n",
            "|    n_updates          | 299       |\n",
            "|    policy_loss        | -8.1      |\n",
            "|    std                | 1.01      |\n",
            "|    value_loss         | 47.2      |\n",
            "-------------------------------------\n",
            "-------------------------------------\n",
            "| rollout/              |           |\n",
            "|    ep_len_mean        | 200       |\n",
            "|    ep_rew_mean        | -1.18e+03 |\n",
            "| time/                 |           |\n",
            "|    fps                | 441       |\n",
            "|    iterations         | 400       |\n",
            "|    time_elapsed       | 4         |\n",
            "|    total_timesteps    | 2000      |\n",
            "| train/                |           |\n",
            "|    entropy_loss       | -1.44     |\n",
            "|    explained_variance | -0.000773 |\n",
            "|    learning_rate      | 0.0007    |\n",
            "|    n_updates          | 399       |\n",
            "|    policy_loss        | -43.9     |\n",
            "|    std                | 1.02      |\n",
            "|    value_loss         | 1.72e+03  |\n",
            "-------------------------------------\n",
            "-------------------------------------\n",
            "| rollout/              |           |\n",
            "|    ep_len_mean        | 200       |\n",
            "|    ep_rew_mean        | -1.21e+03 |\n",
            "| time/                 |           |\n",
            "|    fps                | 440       |\n",
            "|    iterations         | 500       |\n",
            "|    time_elapsed       | 5         |\n",
            "|    total_timesteps    | 2500      |\n",
            "| train/                |           |\n",
            "|    entropy_loss       | -1.44     |\n",
            "|    explained_variance | 0.0436    |\n",
            "|    learning_rate      | 0.0007    |\n",
            "|    n_updates          | 499       |\n",
            "|    policy_loss        | -7.49     |\n",
            "|    std                | 1.02      |\n",
            "|    value_loss         | 59        |\n",
            "-------------------------------------\n",
            "-------------------------------------\n",
            "| rollout/              |           |\n",
            "|    ep_len_mean        | 200       |\n",
            "|    ep_rew_mean        | -1.21e+03 |\n",
            "| time/                 |           |\n",
            "|    fps                | 446       |\n",
            "|    iterations         | 600       |\n",
            "|    time_elapsed       | 6         |\n",
            "|    total_timesteps    | 3000      |\n",
            "| train/                |           |\n",
            "|    entropy_loss       | -1.43     |\n",
            "|    explained_variance | -0.0303   |\n",
            "|    learning_rate      | 0.0007    |\n",
            "|    n_updates          | 599       |\n",
            "|    policy_loss        | -0.871    |\n",
            "|    std                | 1.01      |\n",
            "|    value_loss         | 0.542     |\n",
            "-------------------------------------\n",
            "-------------------------------------\n",
            "| rollout/              |           |\n",
            "|    ep_len_mean        | 200       |\n",
            "|    ep_rew_mean        | -1.22e+03 |\n",
            "| time/                 |           |\n",
            "|    fps                | 451       |\n",
            "|    iterations         | 700       |\n",
            "|    time_elapsed       | 7         |\n",
            "|    total_timesteps    | 3500      |\n",
            "| train/                |           |\n",
            "|    entropy_loss       | -1.43     |\n",
            "|    explained_variance | 0.0248    |\n",
            "|    learning_rate      | 0.0007    |\n",
            "|    n_updates          | 699       |\n",
            "|    policy_loss        | -8.56     |\n",
            "|    std                | 1.01      |\n",
            "|    value_loss         | 106       |\n",
            "-------------------------------------\n",
            "-------------------------------------\n",
            "| rollout/              |           |\n",
            "|    ep_len_mean        | 200       |\n",
            "|    ep_rew_mean        | -1.24e+03 |\n",
            "| time/                 |           |\n",
            "|    fps                | 454       |\n",
            "|    iterations         | 800       |\n",
            "|    time_elapsed       | 8         |\n",
            "|    total_timesteps    | 4000      |\n",
            "| train/                |           |\n",
            "|    entropy_loss       | -1.43     |\n",
            "|    explained_variance | 0.00831   |\n",
            "|    learning_rate      | 0.0007    |\n",
            "|    n_updates          | 799       |\n",
            "|    policy_loss        | -4.88     |\n",
            "|    std                | 1.01      |\n",
            "|    value_loss         | 28        |\n",
            "-------------------------------------\n"
          ]
        }
      ],
      "source": [
        "# Define and train a A2C model\n",
        "a2c_model = A2C(\n",
        "    \"MlpPolicy\", env_id, seed=0, verbose=1\n",
        ").learn(budget_pendulum)\n"
      ]
    },
    {
      "cell_type": "code",
      "execution_count": 20,
      "metadata": {
        "id": "ic83jZwB5nVk"
      },
      "outputs": [
        {
          "name": "stdout",
          "output_type": "stream",
          "text": [
            "A2C Mean episode reward: -1350.07 +/- 44.69\n"
          ]
        }
      ],
      "source": [
        "# Evaluate the train A2C model\n",
        "mean_reward, std_reward = evaluate_policy(\n",
        "    a2c_model, eval_envs, n_eval_episodes=100, deterministic=True\n",
        ")\n",
        "\n",
        "print(f\"A2C Mean episode reward: {mean_reward:.2f} +/- {std_reward:.2f}\")"
      ]
    },
    {
      "cell_type": "markdown",
      "metadata": {
        "id": "0_z1zFx2rVpG"
      },
      "source": [
        "Both are far from solving the env (mean reward around -200).\n",
        "Now, let's try with an off-policy algorithm:"
      ]
    },
    {
      "cell_type": "markdown",
      "metadata": {
        "id": "3wYaVZJU5VL5"
      },
      "source": [
        "### Training longer PPO ?\n",
        "\n",
        "Maybe training longer would help?\n",
        "\n",
        "You can try with 10x the budget, but in the case of A2C/PPO, training longer won't help much, finding better hyperparameters is needed instead."
      ]
    },
    {
      "cell_type": "code",
      "execution_count": 21,
      "metadata": {
        "id": "hHsHpnQY6TWA"
      },
      "outputs": [],
      "source": [
        "# train longer\n",
        "new_budget = 10 * budget_pendulum\n",
        "\n",
        "ppo_model = PPO(\"MlpPolicy\", env_id, seed=0, verbose=0).learn(new_budget)"
      ]
    },
    {
      "cell_type": "code",
      "execution_count": 22,
      "metadata": {
        "id": "7OD9y1o36Xta"
      },
      "outputs": [
        {
          "name": "stdout",
          "output_type": "stream",
          "text": [
            "PPO Mean episode reward: -1172.23 +/- 252.56\n"
          ]
        }
      ],
      "source": [
        "mean_reward, std_reward = evaluate_policy(ppo_model, eval_envs, n_eval_episodes=100, deterministic=True)\n",
        "\n",
        "print(f\"PPO Mean episode reward: {mean_reward:.2f} +/- {std_reward:.2f}\")"
      ]
    },
    {
      "cell_type": "markdown",
      "metadata": {
        "id": "YEvQ9SJ15Xmh"
      },
      "source": [
        "### PPO - Tuned Hyperparameters\n",
        "\n",
        "Using Optuna, we can in fact tune the hyperparameters and find a working solution (from the [RL Zoo](https://github.com/DLR-RM/rl-baselines3-zoo/blob/master/hyperparams/ppo.yml)):"
      ]
    },
    {
      "cell_type": "code",
      "execution_count": 23,
      "metadata": {
        "id": "S-D_vvsb6jOZ"
      },
      "outputs": [
        {
          "name": "stdout",
          "output_type": "stream",
          "text": [
            "Using cuda device\n",
            "Creating environment from the given name 'Pendulum-v1'\n",
            "Wrapping the env with a `Monitor` wrapper\n",
            "Wrapping the env in a DummyVecEnv.\n",
            "----------------------------------------\n",
            "| rollout/                |            |\n",
            "|    ep_len_mean          | 200        |\n",
            "|    ep_rew_mean          | -1.16e+03  |\n",
            "| time/                   |            |\n",
            "|    fps                  | 544        |\n",
            "|    iterations           | 5          |\n",
            "|    time_elapsed         | 18         |\n",
            "|    total_timesteps      | 10240      |\n",
            "| train/                  |            |\n",
            "|    approx_kl            | 0.03148853 |\n",
            "|    clip_fraction        | 0.252      |\n",
            "|    clip_range           | 0.2        |\n",
            "|    entropy_loss         | -2.63      |\n",
            "|    explained_variance   | 0.831      |\n",
            "|    learning_rate        | 0.001      |\n",
            "|    loss                 | 15.7       |\n",
            "|    n_updates            | 40         |\n",
            "|    policy_gradient_loss | -0.0277    |\n",
            "|    std                  | 0.914      |\n",
            "|    value_loss           | 40.5       |\n",
            "----------------------------------------\n",
            "-----------------------------------------\n",
            "| rollout/                |             |\n",
            "|    ep_len_mean          | 200         |\n",
            "|    ep_rew_mean          | -1.01e+03   |\n",
            "| time/                   |             |\n",
            "|    fps                  | 526         |\n",
            "|    iterations           | 10          |\n",
            "|    time_elapsed         | 38          |\n",
            "|    total_timesteps      | 20480       |\n",
            "| train/                  |             |\n",
            "|    approx_kl            | 0.029234124 |\n",
            "|    clip_fraction        | 0.231       |\n",
            "|    clip_range           | 0.2         |\n",
            "|    entropy_loss         | -2.25       |\n",
            "|    explained_variance   | 0.973       |\n",
            "|    learning_rate        | 0.001       |\n",
            "|    loss                 | 3.62        |\n",
            "|    n_updates            | 90          |\n",
            "|    policy_gradient_loss | -0.0319     |\n",
            "|    std                  | 0.493       |\n",
            "|    value_loss           | 8.99        |\n",
            "-----------------------------------------\n",
            "-----------------------------------------\n",
            "| rollout/                |             |\n",
            "|    ep_len_mean          | 200         |\n",
            "|    ep_rew_mean          | -619        |\n",
            "| time/                   |             |\n",
            "|    fps                  | 522         |\n",
            "|    iterations           | 15          |\n",
            "|    time_elapsed         | 58          |\n",
            "|    total_timesteps      | 30720       |\n",
            "| train/                  |             |\n",
            "|    approx_kl            | 0.042906195 |\n",
            "|    clip_fraction        | 0.265       |\n",
            "|    clip_range           | 0.2         |\n",
            "|    entropy_loss         | -1.47       |\n",
            "|    explained_variance   | 0.995       |\n",
            "|    learning_rate        | 0.001       |\n",
            "|    loss                 | 0.708       |\n",
            "|    n_updates            | 140         |\n",
            "|    policy_gradient_loss | -0.0085     |\n",
            "|    std                  | 0.272       |\n",
            "|    value_loss           | 2.24        |\n",
            "-----------------------------------------\n",
            "----------------------------------------\n",
            "| rollout/                |            |\n",
            "|    ep_len_mean          | 200        |\n",
            "|    ep_rew_mean          | -304       |\n",
            "| time/                   |            |\n",
            "|    fps                  | 519        |\n",
            "|    iterations           | 20         |\n",
            "|    time_elapsed         | 78         |\n",
            "|    total_timesteps      | 40960      |\n",
            "| train/                  |            |\n",
            "|    approx_kl            | 0.03081058 |\n",
            "|    clip_fraction        | 0.235      |\n",
            "|    clip_range           | 0.2        |\n",
            "|    entropy_loss         | -1.23      |\n",
            "|    explained_variance   | 0.998      |\n",
            "|    learning_rate        | 0.001      |\n",
            "|    loss                 | 0.141      |\n",
            "|    n_updates            | 190        |\n",
            "|    policy_gradient_loss | -0.00715   |\n",
            "|    std                  | 0.206      |\n",
            "|    value_loss           | 0.435      |\n",
            "----------------------------------------\n",
            "----------------------------------------\n",
            "| rollout/                |            |\n",
            "|    ep_len_mean          | 200        |\n",
            "|    ep_rew_mean          | -225       |\n",
            "| time/                   |            |\n",
            "|    fps                  | 518        |\n",
            "|    iterations           | 25         |\n",
            "|    time_elapsed         | 98         |\n",
            "|    total_timesteps      | 51200      |\n",
            "| train/                  |            |\n",
            "|    approx_kl            | 0.06314248 |\n",
            "|    clip_fraction        | 0.262      |\n",
            "|    clip_range           | 0.2        |\n",
            "|    entropy_loss         | -1.05      |\n",
            "|    explained_variance   | 0.999      |\n",
            "|    learning_rate        | 0.001      |\n",
            "|    loss                 | 0.156      |\n",
            "|    n_updates            | 240        |\n",
            "|    policy_gradient_loss | -0.00212   |\n",
            "|    std                  | 0.167      |\n",
            "|    value_loss           | 0.266      |\n",
            "----------------------------------------\n"
          ]
        }
      ],
      "source": [
        "tuned_params = {\n",
        "    \"gamma\": 0.9,\n",
        "    \"use_sde\": True,\n",
        "    \"sde_sample_freq\": 4,\n",
        "    \"learning_rate\": 1e-3,\n",
        "}\n",
        "\n",
        "# budget = 10 * budget_pendulum\n",
        "ppo_tuned_model = PPO(\"MlpPolicy\", env_id, seed=1, verbose=1, **tuned_params).learn(50_000, log_interval=5)"
      ]
    },
    {
      "cell_type": "code",
      "execution_count": 24,
      "metadata": {
        "colab": {
          "base_uri": "https://localhost:8080/"
        },
        "id": "MLuxoLxt67xO",
        "outputId": "6bc7479b-689f-4d0f-9f01-379c31afdb4e"
      },
      "outputs": [
        {
          "name": "stdout",
          "output_type": "stream",
          "text": [
            "Tuned PPO Mean episode reward: -176.56 +/- 169.91\n"
          ]
        }
      ],
      "source": [
        "mean_reward, std_reward = evaluate_policy(ppo_tuned_model, eval_envs, n_eval_episodes=100, deterministic=True)\n",
        "\n",
        "print(f\"Tuned PPO Mean episode reward: {mean_reward:.2f} +/- {std_reward:.2f}\")"
      ]
    },
    {
      "cell_type": "markdown",
      "metadata": {
        "id": "2H33u_apWPp5"
      },
      "source": [
        "Note: if you try SAC on the simple MountainCarContinuous environment, you will encounter some issues without tuned hyperparameters: https://github.com/rail-berkeley/softlearning/issues/76\n",
        "\n",
        "Simple environments can be challenging even for SOTA algorithms."
      ]
    },
    {
      "cell_type": "markdown",
      "metadata": {
        "id": "_vdpPJ04nebx"
      },
      "source": [
        "# Part II: Grad Student Descent\n"
      ]
    },
    {
      "cell_type": "markdown",
      "metadata": {
        "id": "n8PNN9kcgolk"
      },
      "source": [
        "### Challenge (10 minutes): \"Grad Student Descent\"\n",
        "The challenge is to find the best hyperparameters (max performance) for A2C on `CartPole-v1` with a limited budget of 20 000 training steps.\n",
        "\n",
        "\n",
        "Maximum reward: 500 on `CartPole-v1`\n",
        "\n",
        "The hyperparameters should work for different random seeds."
      ]
    },
    {
      "cell_type": "code",
      "execution_count": null,
      "metadata": {
        "id": "s6aqxsini7H3"
      },
      "outputs": [],
      "source": [
        "budget = 20_000"
      ]
    },
    {
      "cell_type": "markdown",
      "metadata": {
        "id": "yDQ805DBi3KM"
      },
      "source": [
        "#### The baseline: default hyperparameters"
      ]
    },
    {
      "cell_type": "code",
      "execution_count": null,
      "metadata": {
        "id": "pyOCKf4Vt-HK"
      },
      "outputs": [],
      "source": [
        "eval_envs_cartpole = make_vec_env(\"CartPole-v1\", n_envs=10)"
      ]
    },
    {
      "cell_type": "code",
      "execution_count": null,
      "metadata": {
        "id": "D1PSNGcsi2dP"
      },
      "outputs": [],
      "source": [
        "model = A2C(\"MlpPolicy\", \"CartPole-v1\", seed=8, verbose=1).learn(budget)"
      ]
    },
    {
      "cell_type": "code",
      "execution_count": null,
      "metadata": {
        "colab": {
          "base_uri": "https://localhost:8080/"
        },
        "id": "2d3X0G0ng2OE",
        "outputId": "8d550b14-a673-4abd-b9b8-c539d9c79c05"
      },
      "outputs": [
        {
          "name": "stdout",
          "output_type": "stream",
          "text": [
            "mean_reward:135.02 +/- 99.80\n"
          ]
        }
      ],
      "source": [
        "mean_reward, std_reward = evaluate_policy(model, eval_envs_cartpole, n_eval_episodes=50, deterministic=True)\n",
        "\n",
        "print(f\"mean_reward:{mean_reward:.2f} +/- {std_reward:.2f}\")"
      ]
    },
    {
      "cell_type": "markdown",
      "metadata": {
        "id": "B-fi1-oKnUI2"
      },
      "source": [
        "**Your goal is to beat that baseline and get closer to the optimal score of 500**"
      ]
    },
    {
      "cell_type": "markdown",
      "metadata": {
        "id": "qvq8zizok1X_"
      },
      "source": [
        "Time to tune!"
      ]
    },
    {
      "cell_type": "code",
      "execution_count": null,
      "metadata": {
        "id": "UaqCCH4gkRH_"
      },
      "outputs": [],
      "source": [
        "import torch.nn as nn"
      ]
    },
    {
      "cell_type": "code",
      "execution_count": null,
      "metadata": {
        "id": "uDUfeZcyjPKS"
      },
      "outputs": [],
      "source": [
        "policy_kwargs = dict(\n",
        "    net_arch=[\n",
        "      dict(vf=[64, 64], pi=[64, 64]), # network architectures for actor/critic\n",
        "    ],\n",
        "    activation_fn=nn.Tanh,\n",
        ")\n",
        "\n",
        "hyperparams = dict(\n",
        "    n_steps=5, # number of steps to collect data before updating policy\n",
        "    learning_rate=7e-4,\n",
        "    gamma=0.99, # discount factor\n",
        "    max_grad_norm=0.5, # The maximum value for the gradient clipping\n",
        "    ent_coef=0.0, # Entropy coefficient for the loss calculation\n",
        ")\n",
        "\n",
        "model = A2C(\"MlpPolicy\", \"CartPole-v1\", seed=8, verbose=1, **hyperparams).learn(budget)"
      ]
    },
    {
      "cell_type": "code",
      "execution_count": null,
      "metadata": {
        "id": "V7H-rIRYXNxo"
      },
      "outputs": [],
      "source": [
        "mean_reward, std_reward = evaluate_policy(model, eval_envs_cartpole, n_eval_episodes=50, deterministic=True)\n",
        "\n",
        "print(f\"mean_reward:{mean_reward:.2f} +/- {std_reward:.2f}\")"
      ]
    },
    {
      "cell_type": "markdown",
      "metadata": {
        "id": "iL_G9DurUV75"
      },
      "source": [
        "Hint - Recommended Hyperparameter Range\n",
        "\n",
        "```python\n",
        "gamma = trial.suggest_float(\"gamma\", 0.9, 0.99999, log=True)\n",
        "max_grad_norm = trial.suggest_float(\"max_grad_norm\", 0.3, 5.0, log=True)\n",
        "# from 2**3 = 8 to 2**10 = 1024\n",
        "n_steps = 2 ** trial.suggest_int(\"exponent_n_steps\", 3, 10)\n",
        "learning_rate = trial.suggest_float(\"lr\", 1e-5, 1, log=True)\n",
        "ent_coef = trial.suggest_float(\"ent_coef\", 0.00000001, 0.1, log=True)\n",
        "# net_arch tiny: {\"pi\": [64], \"vf\": [64]}\n",
        "# net_arch default: {\"pi\": [64, 64], \"vf\": [64, 64]}\n",
        "# activation_fn = nn.Tanh / nn.ReLU\n",
        "```"
      ]
    },
    {
      "cell_type": "markdown",
      "metadata": {
        "id": "QwFOp0j-ga-_"
      },
      "source": [
        "# Part III: Automatic Hyperparameter Tuning\n",
        "\n",
        "\n",
        "\n"
      ]
    },
    {
      "cell_type": "markdown",
      "metadata": {
        "id": "88x7wMyyud5p"
      },
      "source": [
        "In this part we will create a script that allows to search for the best hyperparameters automatically."
      ]
    },
    {
      "cell_type": "markdown",
      "metadata": {
        "id": "auwR-30IvHeY"
      },
      "source": [
        "### Imports"
      ]
    },
    {
      "cell_type": "code",
      "execution_count": null,
      "metadata": {
        "id": "VM6tUr-yuekR"
      },
      "outputs": [],
      "source": [
        "import optuna\n",
        "from optuna.pruners import MedianPruner\n",
        "from optuna.samplers import TPESampler\n",
        "from optuna.visualization import plot_optimization_history, plot_param_importances"
      ]
    },
    {
      "cell_type": "markdown",
      "metadata": {
        "id": "ZQVfmM1dzA1d"
      },
      "source": [
        "### Config"
      ]
    },
    {
      "cell_type": "code",
      "execution_count": null,
      "metadata": {
        "id": "yyBTVcAGzCRk"
      },
      "outputs": [],
      "source": [
        "N_TRIALS = 100  # Maximum number of trials\n",
        "N_JOBS = 1 # Number of jobs to run in parallel\n",
        "N_STARTUP_TRIALS = 5  # Stop random sampling after N_STARTUP_TRIALS\n",
        "N_EVALUATIONS = 2  # Number of evaluations during the training\n",
        "N_TIMESTEPS = int(2e4)  # Training budget\n",
        "EVAL_FREQ = int(N_TIMESTEPS / N_EVALUATIONS)\n",
        "N_EVAL_ENVS = 5\n",
        "N_EVAL_EPISODES = 10\n",
        "TIMEOUT = int(60 * 15)  # 15 minutes\n",
        "\n",
        "ENV_ID = \"CartPole-v1\"\n",
        "\n",
        "DEFAULT_HYPERPARAMS = {\n",
        "    \"policy\": \"MlpPolicy\",\n",
        "    \"env\": ENV_ID,\n",
        "}"
      ]
    },
    {
      "cell_type": "markdown",
      "metadata": {
        "id": "25HgcDYzvJ0b"
      },
      "source": [
        "### Exercise (5 minutes): Define the search space"
      ]
    },
    {
      "cell_type": "code",
      "execution_count": null,
      "metadata": {
        "id": "KXo8AwGAvN8Q"
      },
      "outputs": [],
      "source": [
        "from typing import Any, Dict\n",
        "import torch\n",
        "import torch.nn as nn\n",
        "\n",
        "def sample_a2c_params(trial: optuna.Trial) -> Dict[str, Any]:\n",
        "    \"\"\"\n",
        "    Sampler for A2C hyperparameters.\n",
        "\n",
        "    :param trial: Optuna trial object\n",
        "    :return: The sampled hyperparameters for the given trial.\n",
        "    \"\"\"\n",
        "    # Discount factor between 0.9 and 0.9999\n",
        "    gamma = 1.0 - trial.suggest_float(\"gamma\", 0.0001, 0.1, log=True)\n",
        "    max_grad_norm = trial.suggest_float(\"max_grad_norm\", 0.3, 5.0, log=True)\n",
        "    # 8, 16, 32, ... 1024\n",
        "    n_steps = 2 ** trial.suggest_int(\"exponent_n_steps\", 3, 10)\n",
        "\n",
        "    ### YOUR CODE HERE\n",
        "    # TODO:\n",
        "    # - define the learning rate search space [1e-5, 1] (log) -> `suggest_float`\n",
        "    # - define the network architecture search space [\"tiny\", \"small\"] -> `suggest_categorical`\n",
        "    # - define the activation function search space [\"tanh\", \"relu\"]\n",
        "    learning_rate = ...\n",
        "    net_arch = ...\n",
        "    activation_fn = ...\n",
        "\n",
        "    ### END OF YOUR CODE\n",
        "\n",
        "    # Display true values\n",
        "    trial.set_user_attr(\"gamma_\", gamma)\n",
        "    trial.set_user_attr(\"n_steps\", n_steps)\n",
        "\n",
        "    net_arch = [\n",
        "        {\"pi\": [64], \"vf\": [64]}\n",
        "        if net_arch == \"tiny\"\n",
        "        else {\"pi\": [64, 64], \"vf\": [64, 64]}\n",
        "    ]\n",
        "\n",
        "    activation_fn = {\"tanh\": nn.Tanh, \"relu\": nn.ReLU}[activation_fn]\n",
        "\n",
        "    return {\n",
        "        \"n_steps\": n_steps,\n",
        "        \"gamma\": gamma,\n",
        "        \"learning_rate\": learning_rate,\n",
        "        \"max_grad_norm\": max_grad_norm,\n",
        "        \"policy_kwargs\": {\n",
        "            \"net_arch\": net_arch,\n",
        "            \"activation_fn\": activation_fn,\n",
        "        },\n",
        "    }"
      ]
    },
    {
      "cell_type": "markdown",
      "metadata": {
        "id": "iybymNiJxNu7"
      },
      "source": [
        "### Define the objective function"
      ]
    },
    {
      "cell_type": "markdown",
      "metadata": {
        "id": "YJY8Z8tuxai7"
      },
      "source": [
        "First we define a custom callback to report the results of periodic evaluations to Optuna:"
      ]
    },
    {
      "cell_type": "code",
      "execution_count": null,
      "metadata": {
        "id": "U5ijWTPzxSmd"
      },
      "outputs": [],
      "source": [
        "from stable_baselines3.common.callbacks import EvalCallback\n",
        "\n",
        "class TrialEvalCallback(EvalCallback):\n",
        "    \"\"\"\n",
        "    Callback used for evaluating and reporting a trial.\n",
        "\n",
        "    :param eval_env: Evaluation environement\n",
        "    :param trial: Optuna trial object\n",
        "    :param n_eval_episodes: Number of evaluation episodes\n",
        "    :param eval_freq:   Evaluate the agent every ``eval_freq`` call of the callback.\n",
        "    :param deterministic: Whether the evaluation should\n",
        "        use a stochastic or deterministic policy.\n",
        "    :param verbose:\n",
        "    \"\"\"\n",
        "\n",
        "    def __init__(\n",
        "        self,\n",
        "        eval_env: gym.Env,\n",
        "        trial: optuna.Trial,\n",
        "        n_eval_episodes: int = 5,\n",
        "        eval_freq: int = 10000,\n",
        "        deterministic: bool = True,\n",
        "        verbose: int = 0,\n",
        "    ):\n",
        "\n",
        "        super().__init__(\n",
        "            eval_env=eval_env,\n",
        "            n_eval_episodes=n_eval_episodes,\n",
        "            eval_freq=eval_freq,\n",
        "            deterministic=deterministic,\n",
        "            verbose=verbose,\n",
        "        )\n",
        "        self.trial = trial\n",
        "        self.eval_idx = 0\n",
        "        self.is_pruned = False\n",
        "\n",
        "    def _on_step(self) -> bool:\n",
        "        if self.eval_freq > 0 and self.n_calls % self.eval_freq == 0:\n",
        "            # Evaluate policy (done in the parent class)\n",
        "            super()._on_step()\n",
        "            self.eval_idx += 1\n",
        "            # Send report to Optuna\n",
        "            self.trial.report(self.last_mean_reward, self.eval_idx)\n",
        "            # Prune trial if need\n",
        "            if self.trial.should_prune():\n",
        "                self.is_pruned = True\n",
        "                return False\n",
        "        return True"
      ]
    },
    {
      "cell_type": "markdown",
      "metadata": {
        "id": "8cHNM_cFO3vs"
      },
      "source": [
        "### Exercise (10 minutes): Define the objective function"
      ]
    },
    {
      "cell_type": "markdown",
      "metadata": {
        "id": "76voi9AXxlCq"
      },
      "source": [
        "Then we define the objective function that is in charge of sampling hyperparameters, creating the model and then returning the result to Optuna"
      ]
    },
    {
      "cell_type": "code",
      "execution_count": null,
      "metadata": {
        "id": "E0yEokTDxhrC"
      },
      "outputs": [],
      "source": [
        "def objective(trial: optuna.Trial) -> float:\n",
        "    \"\"\"\n",
        "    Objective function using by Optuna to evaluate\n",
        "    one configuration (i.e., one set of hyperparameters).\n",
        "\n",
        "    Given a trial object, it will sample hyperparameters,\n",
        "    evaluate it and report the result (mean episodic reward after training)\n",
        "\n",
        "    :param trial: Optuna trial object\n",
        "    :return: Mean episodic reward after training\n",
        "    \"\"\"\n",
        "\n",
        "    kwargs = DEFAULT_HYPERPARAMS.copy()\n",
        "    ### YOUR CODE HERE\n",
        "    # TODO:\n",
        "    # 1. Sample hyperparameters and update the default keyword arguments: `kwargs.update(other_params)`\n",
        "    # 2. Create the evaluation envs\n",
        "    # 3. Create the `TrialEvalCallback`\n",
        "\n",
        "    # 1. Sample hyperparameters and update the keyword arguments\n",
        "\n",
        "    # Create the RL model\n",
        "    model = A2C(**kwargs)\n",
        "\n",
        "    # 2. Create envs used for evaluation using `make_vec_env`, `ENV_ID` and `N_EVAL_ENVS`\n",
        "\n",
        "    # 3. Create the `TrialEvalCallback` callback defined above that will periodically evaluate\n",
        "    # and report the performance using `N_EVAL_EPISODES` every `EVAL_FREQ`\n",
        "    # TrialEvalCallback signature:\n",
        "    # TrialEvalCallback(eval_env, trial, n_eval_episodes, eval_freq, deterministic, verbose)\n",
        "    eval_callback = ...\n",
        "\n",
        "    ### END OF YOUR CODE\n",
        "\n",
        "    nan_encountered = False\n",
        "    try:\n",
        "        # Train the model\n",
        "        model.learn(N_TIMESTEPS, callback=eval_callback)\n",
        "    except AssertionError as e:\n",
        "        # Sometimes, random hyperparams can generate NaN\n",
        "        print(e)\n",
        "        nan_encountered = True\n",
        "    finally:\n",
        "        # Free memory\n",
        "        model.env.close()\n",
        "        eval_envs.close()\n",
        "\n",
        "    # Tell the optimizer that the trial failed\n",
        "    if nan_encountered:\n",
        "        return float(\"nan\")\n",
        "\n",
        "    if eval_callback.is_pruned:\n",
        "        raise optuna.exceptions.TrialPruned()\n",
        "\n",
        "    return eval_callback.last_mean_reward"
      ]
    },
    {
      "cell_type": "markdown",
      "metadata": {
        "id": "jMFLu_M0ymzj"
      },
      "source": [
        "### The optimization loop"
      ]
    },
    {
      "cell_type": "code",
      "execution_count": null,
      "metadata": {
        "id": "4UU17YpjymPr"
      },
      "outputs": [],
      "source": [
        "import torch as th\n",
        "\n",
        "# Set pytorch num threads to 1 for faster training\n",
        "th.set_num_threads(1)\n",
        "# Select the sampler, can be random, TPESampler, CMAES, ...\n",
        "sampler = TPESampler(n_startup_trials=N_STARTUP_TRIALS)\n",
        "# Do not prune before 1/3 of the max budget is used\n",
        "pruner = MedianPruner(\n",
        "    n_startup_trials=N_STARTUP_TRIALS, n_warmup_steps=N_EVALUATIONS // 3\n",
        ")\n",
        "# Create the study and start the hyperparameter optimization\n",
        "study = optuna.create_study(sampler=sampler, pruner=pruner, direction=\"maximize\")\n",
        "\n",
        "try:\n",
        "    study.optimize(objective, n_trials=N_TRIALS, n_jobs=N_JOBS, timeout=TIMEOUT)\n",
        "except KeyboardInterrupt:\n",
        "    pass\n",
        "\n",
        "print(\"Number of finished trials: \", len(study.trials))\n",
        "\n",
        "print(\"Best trial:\")\n",
        "trial = study.best_trial\n",
        "\n",
        "print(f\"  Value: {trial.value}\")\n",
        "\n",
        "print(\"  Params: \")\n",
        "for key, value in trial.params.items():\n",
        "    print(f\"    {key}: {value}\")\n",
        "\n",
        "print(\"  User attrs:\")\n",
        "for key, value in trial.user_attrs.items():\n",
        "    print(f\"    {key}: {value}\")\n",
        "\n",
        "# Write report\n",
        "study.trials_dataframe().to_csv(\"study_results_a2c_cartpole.csv\")\n",
        "\n",
        "fig1 = plot_optimization_history(study)\n",
        "fig2 = plot_param_importances(study)\n",
        "\n",
        "fig1.show()\n",
        "fig2.show()"
      ]
    },
    {
      "cell_type": "markdown",
      "metadata": {
        "id": "SCbep6z1h3D1"
      },
      "source": [
        "Complete example: https://github.com/DLR-RM/rl-baselines3-zoo"
      ]
    },
    {
      "cell_type": "markdown",
      "metadata": {
        "id": "7yUeYnfJVpB2"
      },
      "source": [
        "# Conclusion\n",
        "\n",
        "What we have seen in this notebook:\n",
        "- the importance of good hyperparameters\n",
        "- how to do automatic hyperparameter search with optuna\n"
      ]
    },
    {
      "cell_type": "code",
      "execution_count": null,
      "metadata": {
        "id": "3-gqIPXqV7zZ"
      },
      "outputs": [],
      "source": []
    }
  ],
  "metadata": {
    "colab": {
      "name": "icra22_optuna_lab.ipynb",
      "provenance": []
    },
    "kernelspec": {
      "display_name": "Python 3",
      "name": "python3"
    },
    "language_info": {
      "codemirror_mode": {
        "name": "ipython",
        "version": 3
      },
      "file_extension": ".py",
      "mimetype": "text/x-python",
      "name": "python",
      "nbconvert_exporter": "python",
      "pygments_lexer": "ipython3",
      "version": "3.10.8"
    }
  },
  "nbformat": 4,
  "nbformat_minor": 0
}
